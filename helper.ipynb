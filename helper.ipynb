{
 "cells": [
  {
   "cell_type": "markdown",
   "metadata": {},
   "source": [
    "### For the opensource Datasets taken from the following website:\n",
    "https://www.maths.lth.se/matematiklth/personal/calle/dataset/dataset.html\n",
    "\n",
    "You can use the following code to find out the K matrix (camera params) from data.mat file of the dataset.\n",
    "\n",
    "K = [   [Fx, Cx, 0],\n",
    "        [0,  Fy, Cy],\n",
    "        [0,  0,  1]]\n",
    "\n",
    "        "
   ]
  },
  {
   "cell_type": "code",
   "execution_count": 2,
   "metadata": {},
   "outputs": [
    {
     "name": "stdout",
     "output_type": "stream",
     "text": [
      "[[-2.39395217e+03  4.90274488e-13  9.32382177e+02]\n",
      " [-0.00000000e+00  2.39811854e+03  6.28264995e+02]\n",
      " [-0.00000000e+00 -0.00000000e+00  1.00000000e+00]]\n"
     ]
    }
   ],
   "source": [
    "import numpy as np\n",
    "import scipy.io\n",
    "from scipy.linalg import rq\n",
    "\n",
    "# Load the data from the .mat file\n",
    "data = scipy.io.loadmat('data.mat')\n",
    "\n",
    "# Choose a camera (e.g., the first one)\n",
    "P1 = data['P'][0][0]\n",
    "# Extract the left 3x3 matrix from the projection matrix\n",
    "M = P1[:, :3]\n",
    "\n",
    "# Perform RQ decomposition (QR decomposition of the flipped M)\n",
    "K, R=rq(M)\n",
    "\n",
    "K=K/K[2,2]\n",
    "\n",
    "print(K)"
   ]
  }
 ],
 "metadata": {
  "kernelspec": {
   "display_name": "incremental_sfm",
   "language": "python",
   "name": "python3"
  },
  "language_info": {
   "codemirror_mode": {
    "name": "ipython",
    "version": 3
   },
   "file_extension": ".py",
   "mimetype": "text/x-python",
   "name": "python",
   "nbconvert_exporter": "python",
   "pygments_lexer": "ipython3",
   "version": "3.8.10"
  }
 },
 "nbformat": 4,
 "nbformat_minor": 2
}
